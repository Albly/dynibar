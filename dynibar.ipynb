{
  "cells": [
    {
      "cell_type": "markdown",
      "metadata": {
        "colab_type": "text",
        "id": "view-in-github"
      },
      "source": [
        "<a href=\"https://colab.research.google.com/github/Albly/dynibar/blob/main/dynibar.ipynb\" target=\"_parent\"><img src=\"https://colab.research.google.com/assets/colab-badge.svg\" alt=\"Open In Colab\"/></a>"
      ]
    },
    {
      "cell_type": "code",
      "execution_count": null,
      "metadata": {},
      "outputs": [],
      "source": [
        "import gdown\n",
        "\n",
        "# clone dynibar + models\n",
        "!git clone -q https://github.com/Albly/dynibar.git\n",
        "%cd dynibar\n",
        "\n",
        "# requirements\n",
        "!pip install -q configargparse\n",
        "!pip install -q scikit-image==0.18\n",
        "!pip install -q imageio==2.22.0\n",
        "!pip install -q timm==0.6.7\n",
        "!pip install -q kornia==0.6.7\n",
        "!pip install -q ninja==1.11.1\n",
        "!pip install -q setuptools==59.5.0\n",
        "\n",
        "!wget -q https://storage.googleapis.com/gresearch/dynibar/nvidia_checkpoints.zip\n",
        "!unzip -q nvidia_checkpoints.zip\n",
        "!rm nvidia_checkpoints.zip\n",
        "!gdown -q 1LsFuphsrbo2TinmPeD4Tyqq7Zg86cua1\n",
        "!unzip -q Balloon1.zip\n",
        "!rm Balloon1.zipa"
      ]
    },
    {
      "cell_type": "code",
      "execution_count": null,
      "metadata": {},
      "outputs": [],
      "source": [
        "  # Usage: In txt file, You need to change \"rootdir\" to your code root directory,\n",
        "  # and \"folder_path\" to input data directory, and make sure \"coarse_dir\" points to\n",
        "  # \"checkpoints\" folder you unzip.\n",
        "!python eval_nvidia.py --config configs_nvidia/eval_balloon1_long.txt"
      ]
    }
  ],
  "metadata": {
    "colab": {
      "include_colab_link": true,
      "provenance": []
    },
    "kernelspec": {
      "display_name": "Python 3",
      "name": "python3"
    },
    "language_info": {
      "codemirror_mode": {
        "name": "ipython",
        "version": 3
      },
      "file_extension": ".py",
      "mimetype": "text/x-python",
      "name": "python",
      "nbconvert_exporter": "python",
      "pygments_lexer": "ipython3",
      "version": "3.10.4"
    }
  },
  "nbformat": 4,
  "nbformat_minor": 0
}
